{
  "nbformat": 4,
  "nbformat_minor": 0,
  "metadata": {
    "colab": {
      "provenance": [],
      "authorship_tag": "ABX9TyNI/o2swNPNLwPpcGFAtkin",
      "include_colab_link": true
    },
    "kernelspec": {
      "name": "python3",
      "display_name": "Python 3"
    },
    "language_info": {
      "name": "python"
    }
  },
  "cells": [
    {
      "cell_type": "markdown",
      "metadata": {
        "id": "view-in-github",
        "colab_type": "text"
      },
      "source": [
        "<a href=\"https://colab.research.google.com/github/yazminantunez12/unidad2/blob/main/practica2.ipynb\" target=\"_parent\"><img src=\"https://colab.research.google.com/assets/colab-badge.svg\" alt=\"Open In Colab\"/></a>"
      ]
    },
    {
      "cell_type": "markdown",
      "source": [
        "Yazmin Alejandra Antunez Belmontes - Practica 2 de pandas - 7 de octubre 2025\n",
        "--------------------------------------------\n",
        "DataFrames de pandas\n",
        "----------------------------------------\n",
        "Un DataFrame es una estructura de datos bidimensional, como una matriz o tabla con filas y columnas.\n",
        "--------------------------------------------------\n",
        "Ejemplo: Crea una DataFrame basico:\n",
        "-----------------------------------"
      ],
      "metadata": {
        "id": "kuTJQdrm2CMO"
      }
    },
    {
      "cell_type": "code",
      "source": [
        "import pandas as pd\n",
        "datos = {\n",
        "    \"calorias\":[420,380,390],\n",
        "    \"duracion\":[50,40,45]\n",
        "}\n",
        "df = pd.DataFrame(datos)\n",
        "print(df)"
      ],
      "metadata": {
        "colab": {
          "base_uri": "https://localhost:8080/"
        },
        "id": "YTC_8_Hr26xF",
        "outputId": "4ea6d3a8-8db2-4392-e684-51167aaa163b"
      },
      "execution_count": 1,
      "outputs": [
        {
          "output_type": "stream",
          "name": "stdout",
          "text": [
            "   calorias  duracion\n",
            "0       420        50\n",
            "1       380        40\n",
            "2       390        45\n"
          ]
        }
      ]
    },
    {
      "cell_type": "markdown",
      "source": [
        "Localizar filas\n",
        "Como puede ver el resultado anterior el DataFrame es como una tabla con filas y columnas. Pandas usa el atributo \"loc\" para devolver una o mas filas especificas\n",
        "\n",
        "Ejemplo:Devuelve la fila 0"
      ],
      "metadata": {
        "id": "esGvTtQv7UoF"
      }
    },
    {
      "cell_type": "code",
      "source": [
        "import pandas as pd\n",
        "datos = {\n",
        "    \"calorias\":[420,380,390],\n",
        "    \"duracion\":[50,40,45]\n",
        "}\n",
        "#cargar datos de DATAFRAME\n",
        "df = pd.DataFrame(datos)\n",
        "print(df.loc[0])"
      ],
      "metadata": {
        "colab": {
          "base_uri": "https://localhost:8080/"
        },
        "id": "xd8X9GZT78dd",
        "outputId": "b7915e18-0e32-473d-9269-3598c912cd9a"
      },
      "execution_count": 5,
      "outputs": [
        {
          "output_type": "stream",
          "name": "stdout",
          "text": [
            "calorias    420\n",
            "duracion     50\n",
            "Name: 0, dtype: int64\n"
          ]
        }
      ]
    },
    {
      "cell_type": "markdown",
      "source": [
        "Devuelve las filas 0 y 1:"
      ],
      "metadata": {
        "id": "YxL3oL6y9yKs"
      }
    },
    {
      "cell_type": "code",
      "source": [
        "import pandas as pd\n",
        "datos = {\n",
        "    \"calorias\":[420,380,390],\n",
        "    \"duracion\":[50,40,45]\n",
        "}\n",
        "#cargar datos de DATAFRAME\n",
        "df = pd.DataFrame(datos)\n",
        "print(df.loc[[0,1]])"
      ],
      "metadata": {
        "colab": {
          "base_uri": "https://localhost:8080/"
        },
        "id": "E2yh3Sz_924r",
        "outputId": "bfac21fc-0c60-48cc-c5ee-09f9420ca9a8"
      },
      "execution_count": 6,
      "outputs": [
        {
          "output_type": "stream",
          "name": "stdout",
          "text": [
            "   calorias  duracion\n",
            "0       420        50\n",
            "1       380        40\n"
          ]
        }
      ]
    },
    {
      "cell_type": "markdown",
      "source": [
        "Indices nombrados\n",
        "-----------------------\n",
        "con el argumento \"index\", puedes nombrar tus propios indices o etiquetas.\n",
        "---------------------------------\n",
        "Ejemplo: Agrega una lista de nombres para darle etiqueta a cada fila.\n",
        "------------------------------"
      ],
      "metadata": {
        "id": "_vv4llRd-sXb"
      }
    },
    {
      "cell_type": "code",
      "source": [
        "import pandas as pd\n",
        "datos = {\n",
        "    \"calorias\":[420,380,390],\n",
        "    \"duracion\":[50,40,45]\n",
        "}\n",
        "df = pd.DataFrame(datos, index = [\"dia1\",\"dia2\",\"dia3\"])\n",
        "print(df)"
      ],
      "metadata": {
        "colab": {
          "base_uri": "https://localhost:8080/"
        },
        "id": "vuOrKJHr_EcU",
        "outputId": "2427ff20-fcfe-4d1a-8b77-20a40612da3e"
      },
      "execution_count": 7,
      "outputs": [
        {
          "output_type": "stream",
          "name": "stdout",
          "text": [
            "      calorias  duracion\n",
            "dia1       420        50\n",
            "dia2       380        40\n",
            "dia3       390        45\n"
          ]
        }
      ]
    },
    {
      "cell_type": "markdown",
      "source": [
        "localizar indices el nombre o etiqueta utilice el atributo \"loc\" para devolver las filas especificas\n",
        "----------------\n",
        "ejemplo: devuelve la fila dia 2"
      ],
      "metadata": {
        "id": "8YJ8yIVi_qgU"
      }
    },
    {
      "cell_type": "code",
      "source": [
        "import pandas as pd\n",
        "datos = {\n",
        "    \"calorias\":[420,380,390],\n",
        "    \"duracion\":[50,40,45]\n",
        "}\n",
        "df = pd.DataFrame(datos, index = [\"dia1\",\"dia2\",\"dia3\"])\n",
        "print(df.loc[\"dia2\"])"
      ],
      "metadata": {
        "colab": {
          "base_uri": "https://localhost:8080/"
        },
        "id": "ztoY8miuAvNs",
        "outputId": "cba78887-cea7-48fc-9989-f98510f0b785"
      },
      "execution_count": 8,
      "outputs": [
        {
          "output_type": "stream",
          "name": "stdout",
          "text": [
            "calorias    380\n",
            "duracion     40\n",
            "Name: dia2, dtype: int64\n"
          ]
        }
      ]
    }
  ]
}