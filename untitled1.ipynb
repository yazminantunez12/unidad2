{
  "nbformat": 4,
  "nbformat_minor": 0,
  "metadata": {
    "colab": {
      "provenance": [],
      "authorship_tag": "ABX9TyO0c+OsMj8w+yD9MNBTPAVF",
      "include_colab_link": true
    },
    "kernelspec": {
      "name": "python3",
      "display_name": "Python 3"
    },
    "language_info": {
      "name": "python"
    }
  },
  "cells": [
    {
      "cell_type": "markdown",
      "metadata": {
        "id": "view-in-github",
        "colab_type": "text"
      },
      "source": [
        "<a href=\"https://colab.research.google.com/github/yazminantunez12/unidad2/blob/main/untitled1.ipynb\" target=\"_parent\"><img src=\"https://colab.research.google.com/assets/colab-badge.svg\" alt=\"Open In Colab\"/></a>"
      ]
    },
    {
      "cell_type": "markdown",
      "source": [
        "¿Qué es Pandas en Python?\n",
        "\n",
        "Pandas es una librería o biblioteca de Python que se utiliza para trabajar con conjuntos de datos.\n",
        "Tiene funciones para organizar, limpiar, explorar y manipular datos.\n",
        "El nombre “Pandas” hace referencia a panel data y python data. Fue creado en el 2008.\n",
        "\n",
        "¿Por qué utilizar Pandas?\n",
        "\n",
        "Nos permite analizar big data y sacar conclusiones basadas en teorías.\n",
        "Los Pandas pueden limpiar conjuntos de datos desordenados y hacerlos legibles y relevantes.\n",
        "\n",
        "Los datos relevantes son muy importantes en la ciencia de datos.\n",
        "\n",
        "¿Qué podemos hacer con Pandas?\n",
        "\n",
        "Saber si existe correlación entre dos o más columnas.\n",
        "\n",
        "Calcular el valor promedio.\n",
        "\n",
        "Encontrar el valor máximo.\n",
        "\n",
        "Encontrar el valor mínimo.\n",
        "\n",
        "Pandas también pueden eliminar filas que no son relevantes o que contengan errores como valores vacíos.\n",
        "\n",
        "Esto se llama “limpieza de datos”.\n",
        "\n",
        "Instalación de Pandas\n",
        "\n",
        "Si tienes Python y pip instalado en un sistema, instala usando el siguiente comando:"
      ],
      "metadata": {
        "id": "KnxoJbA3ThVv"
      }
    },
    {
      "cell_type": "code",
      "source": [
        "pip install pandas"
      ],
      "metadata": {
        "id": "H1BWl0vRWaxm"
      },
      "execution_count": null,
      "outputs": []
    },
    {
      "cell_type": "markdown",
      "source": [
        "Si este comando falla, utiliza un distribuidor de Python que ya tenga instalado pandas.\n",
        "\n",
        "Una vez instalado, pandas se importa a tus aplicaciones agregando la palabra clave:"
      ],
      "metadata": {
        "id": "WrMsFZRvWe0-"
      }
    },
    {
      "cell_type": "code",
      "source": [
        "import pandas"
      ],
      "metadata": {
        "id": "Fv-tte9qWo7_"
      },
      "execution_count": null,
      "outputs": []
    },
    {
      "cell_type": "markdown",
      "source": [
        "\n",
        "Ahora pandas está listo.\n",
        "\n",
        "Para importar la librería se suele usar como:"
      ],
      "metadata": {
        "id": "SXTEa0zVWraW"
      }
    },
    {
      "cell_type": "code",
      "source": [
        "import pandas as pd"
      ],
      "metadata": {
        "id": "_i6CgRjrWw9u"
      },
      "execution_count": null,
      "outputs": []
    },
    {
      "cell_type": "markdown",
      "source": [
        "Esto crea un alias con la palabra pd al importar pandas.\n",
        "Ejemplo:"
      ],
      "metadata": {
        "id": "05FWHzHWWzEw"
      }
    },
    {
      "cell_type": "code",
      "source": [
        "import pandas as pd\n"
      ],
      "metadata": {
        "id": "uCJKVAAIXU3u"
      },
      "execution_count": null,
      "outputs": []
    },
    {
      "cell_type": "markdown",
      "source": [
        "Ahora el paquete pandas puede denominarse pd en lugar de pandas.\n",
        "\n",
        "Comprobando la versión de Pandas\n",
        "\n",
        "La cadena de la versión se almacena en el atributo . _version_\n",
        "\n",
        "Ejemplo:"
      ],
      "metadata": {
        "id": "DV16fcuTXYRG"
      }
    },
    {
      "cell_type": "code",
      "source": [
        "import pandas as pd\n",
        "print(pd._version_)\n"
      ],
      "metadata": {
        "id": "saEyKbIaXdu-"
      },
      "execution_count": null,
      "outputs": []
    },
    {
      "cell_type": "markdown",
      "source": [
        "Ejercicio\n",
        "\n",
        "¿Cuál de las siguientes opciones es la biblioteca oficial de pandas?\n",
        "\n",
        "import p\n",
        "\n",
        "import pandas ✅\n",
        "\n",
        "import pan\n",
        "\n",
        "Pandas Serie\n",
        "¿Qué es una Serie?\n",
        "\n",
        "Una Serie pandas es como una columna en una tabla.\n",
        "Es una matriz unidimensional que contiene datos de cualquier tipo.\n",
        "\n",
        "Ejemplo:\n"
      ],
      "metadata": {
        "id": "DZ3ObbP2XmJ-"
      }
    },
    {
      "cell_type": "code",
      "source": [
        "import pandas as pd\n",
        "a = [1, 7, 2]\n",
        "myvar = pd.Series(a)\n",
        "print(myvar)"
      ],
      "metadata": {
        "colab": {
          "base_uri": "https://localhost:8080/"
        },
        "id": "VkABJSYcXtew",
        "outputId": "1a555bcc-fa64-4a4e-c9f0-cc7712e3ebb4"
      },
      "execution_count": null,
      "outputs": [
        {
          "output_type": "stream",
          "name": "stdout",
          "text": [
            "0    1\n",
            "1    7\n",
            "2    2\n",
            "dtype: int64\n"
          ]
        }
      ]
    },
    {
      "cell_type": "markdown",
      "source": [
        "Crear etiquetas\n",
        "\n",
        "Con el argumento index podemos nombrar nuestras propias etiquetas.\n",
        "\n",
        "\n",
        "Ejemplo:\n",
        "Crea tus propias etiquetas:"
      ],
      "metadata": {
        "id": "zIKzNlr0XzEP"
      }
    },
    {
      "cell_type": "code",
      "source": [
        "myvar = pd.Series(calorias, index=[\"x\", \"y\", \"z\"])\n",
        "print(myvar)"
      ],
      "metadata": {
        "id": "UC1Ni5QaZllG"
      },
      "execution_count": null,
      "outputs": []
    },
    {
      "cell_type": "markdown",
      "source": [
        "Acceder con etiquetas\n",
        "\n",
        "Cuando hayamos creado etiquetas podemos acceder a un elemento haciendo referencia a su etiqueta.\n",
        "\n",
        "Se resuelve el valor de:"
      ],
      "metadata": {
        "id": "NaXiH4peZtEf"
      }
    },
    {
      "cell_type": "code",
      "source": [
        "print(myvar[\"y\"])"
      ],
      "metadata": {
        "id": "qzSBiYHmZxLW"
      },
      "execution_count": null,
      "outputs": []
    },
    {
      "cell_type": "markdown",
      "source": [
        "Objetos clave/valor como serie\n",
        "\n",
        "También podemos utilizar un objeto clave:valor como un diccionario al crear una serie.\n",
        "\n",
        "\n",
        "Ejemplo: Crea una serie pandas básica\n"
      ],
      "metadata": {
        "id": "KQvyB9daZ15P"
      }
    },
    {
      "cell_type": "code",
      "source": [
        "import pandas as pd\n",
        "\n",
        "calorias = {\"dia1\": 420, \"dia2\": 380, \"dia3\": 390}\n",
        "\n",
        "myvar = pd.Series(calorias)\n",
        "print(myvar)"
      ],
      "metadata": {
        "colab": {
          "base_uri": "https://localhost:8080/"
        },
        "id": "dVPB_UX_Z5TH",
        "outputId": "d7c8d9b7-9d29-4678-aa7a-1a45f73fc9be"
      },
      "execution_count": null,
      "outputs": [
        {
          "output_type": "stream",
          "name": "stdout",
          "text": [
            "dia1    420\n",
            "dia2    380\n",
            "dia3    390\n",
            "dtype: int64\n"
          ]
        }
      ]
    },
    {
      "cell_type": "markdown",
      "source": [
        "Nota\n",
        "\n",
        "Las claves del diccionario se convierten en las etiquetas.\n",
        "Para seleccionar elementos del diccionario, se utiliza el argumento index que especifica qué elemento debe incluirse en la serie.\n",
        "\n",
        "Ejemplo:\n",
        "Crea una serie utilizando únicamente datos del día 1 y del día2:"
      ],
      "metadata": {
        "id": "1Js2o1dZZ79O"
      }
    },
    {
      "cell_type": "code",
      "source": [
        "myvar = pd.Series(calorias, index=[\"dia1\", \"dia2\"])\n",
        "print(myvar)"
      ],
      "metadata": {
        "colab": {
          "base_uri": "https://localhost:8080/"
        },
        "id": "q46XHOXcZ_V2",
        "outputId": "3e146ff0-bc42-47f3-8c7e-0f6d42507586"
      },
      "execution_count": null,
      "outputs": [
        {
          "output_type": "stream",
          "name": "stdout",
          "text": [
            "dia1    420\n",
            "dia2    380\n",
            "dtype: int64\n"
          ]
        }
      ]
    },
    {
      "cell_type": "markdown",
      "source": [
        "Data Frames\n",
        "\n",
        "Marcos de datos: los conjuntos de datos de pandas suelen ser tablas multidimensionales.\n",
        "la serie que es como una columna es toda tabla, ejemplo:\n",
        "crea un data frame apartir de 2 series:"
      ],
      "metadata": {
        "id": "UvghQqdFaDSH"
      }
    },
    {
      "cell_type": "code",
      "source": [
        "import pandas as pd\n",
        "\n",
        "data = {\n",
        "  \"calorias\": [420, 380, 390],\n",
        "  \"duracion\": [50, 40, 45]\n",
        "}\n",
        "myvar=pd.DataFrame(data)\n",
        "print(myvar)"
      ],
      "metadata": {
        "colab": {
          "base_uri": "https://localhost:8080/"
        },
        "id": "I0OIGw7uaqsW",
        "outputId": "ab69a0fb-c214-4446-bf2d-6eed0983a8c6"
      },
      "execution_count": null,
      "outputs": [
        {
          "output_type": "stream",
          "name": "stdout",
          "text": [
            "   calorias  duracion\n",
            "0       420        50\n",
            "1       380        40\n",
            "2       390        45\n"
          ]
        }
      ]
    }
  ]
}